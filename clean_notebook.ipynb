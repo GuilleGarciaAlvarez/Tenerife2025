{
  "nbformat": 4,
  "nbformat_minor": 0,
  "metadata": {
    "colab": {
      "provenance": [],
      "include_colab_link": true
    },
    "kernelspec": {
      "name": "python3",
      "display_name": "Python 3"
    },
    "language_info": {
      "name": "python"
    }
  },
  "cells": [
    {
      "cell_type": "markdown",
      "metadata": {
        "id": "view-in-github",
        "colab_type": "text"
      },
      "source": [
        "<a href=\"https://colab.research.google.com/github/GuilleGarciaAlvarez/Tenerife2025/blob/main/clean_notebook.ipynb\" target=\"_parent\"><img src=\"https://colab.research.google.com/assets/colab-badge.svg\" alt=\"Open In Colab\"/></a>"
      ]
    },
    {
      "cell_type": "code",
      "source": [
        "import pandas as pd\n",
        "import matplotlib.pyplot as plt\n",
        "import seaborn as sns\n"
      ],
      "metadata": {
        "id": "FjiSJtdG19Ya"
      },
      "execution_count": null,
      "outputs": []
    },
    {
      "cell_type": "code",
      "source": [
        "#upload data from Github\n",
        "\n",
        "!pip install openpyxl\n",
        "\n",
        "import requests\n",
        "from io import BytesIO\n",
        "\n",
        "# GitHub file URL\n",
        "url = \"https://github.com/GuilleGarciaAlvarez/Tenerife2025/raw/main/Tenerife_questionnaire_2025_-_all_versions_-_labels_-_2025-03-19-23-38-27.xlsx\"\n",
        "\n",
        "# Download the file\n",
        "response = requests.get(url)\n",
        "\n",
        "# Read the Excel file into pandas\n",
        "df = pd.read_excel(BytesIO(response.content), engine=\"openpyxl\")\n",
        "\n"
      ],
      "metadata": {
        "colab": {
          "base_uri": "https://localhost:8080/"
        },
        "id": "l_Ny73gI2f4e",
        "outputId": "85911c61-4e34-466d-b366-02e9c5adc311"
      },
      "execution_count": null,
      "outputs": [
        {
          "output_type": "stream",
          "name": "stdout",
          "text": [
            "Requirement already satisfied: openpyxl in /usr/local/lib/python3.11/dist-packages (3.1.5)\n",
            "Requirement already satisfied: et-xmlfile in /usr/local/lib/python3.11/dist-packages (from openpyxl) (2.0.0)\n"
          ]
        }
      ]
    },
    {
      "cell_type": "code",
      "source": [
        "column_mapping = {\n",
        "\n",
        "    \"start\": \"start_time\",\n",
        "    \"end\": \"end_time\",\n",
        "\n",
        "    # Consent Agreement\n",
        "    \"Gracias por tomarse el tiempo para participar en nuestra encuesta. Su aporte es invaluable para recopilar perspectivas y conocimientos sobre los desastres naturales en Tenerife y las medidas que se pueden tomar contra ellos. Sus respuestas nos ayudarán a comprender mejor la vulnerabilidad a los desastres naturales e informar a los responsables de las políticas en consecuencia. Esta encuesta es completamente anónima y sus respuestas se mantendrán confidenciales. La encuesta tomará un máximo de 10 minutos. Si tiene alguna pregunta o comentario durante la encuesta, no dude en pedir apoyo. ¡Muchas gracias por su participación!  ¿Está de acuerdo en participar en esta encuesta y tiene 18 años o más? \": \"consent\",\n",
        "\n",
        "    # Basic Demographics\n",
        "    \"¿En qué ciudad de Tenerife vive? (Por favor, indique si es turista o residente a tiempo parcial)\": \"city\",\n",
        "    \"¿Cuál es su edad?\": \"age\",\n",
        "    \"¿Cuál es su género?\": \"gender\",\n",
        "    \"¿Cuál es su nivel educativo más alto completado?\": \"education\",\n",
        "    \"Indique sus ingresos anuales (en euros)\": \"income\",\n",
        "    \"¿Es usted propietario de la vivienda en la que reside? \" : \"home_ownership\",\n",
        "    '¿Alguno de sus hijos vive actualmente en su hogar? ' : \"child_home\",\n",
        "    '¿Cuántas personas en tu hogar necesitarían asistencia en caso de emergencia? ' : \"assistance\",\n",
        "    '¿Posee usted un automóvil?': \"car\",\n",
        "    '¿Vive usted cerca de un barranco o un río? ' : \"close_river\",\n",
        "    '¿Cómo describiría el área que rodea su hogar? ' : \"surroundings\",\n",
        "\n",
        "    # Perceived Environmental Risks\n",
        "    \"¿Qué peligros ambientales siente que representan un riesgo para usted? (Puede seleccionar múltiples opciones)\" : \"perceived_risks\",\n",
        "    \"¿Qué peligros ambientales siente que representan un riesgo para usted? (Puede seleccionar múltiples opciones)/Incendios forestales\": \"risk_wildfires\",\n",
        "    \"¿Qué peligros ambientales siente que representan un riesgo para usted? (Puede seleccionar múltiples opciones)/Inundaciones\": \"risk_floods\",\n",
        "    \"¿Qué peligros ambientales siente que representan un riesgo para usted? (Puede seleccionar múltiples opciones)/Erupciones volcánicas\": \"risk_volcanoes\",\n",
        "    \"¿Qué peligros ambientales siente que representan un riesgo para usted? (Puede seleccionar múltiples opciones)/Desprendimientos de rocas\": \"risk_rockfalls\",\n",
        "    \"¿Qué peligros ambientales siente que representan un riesgo para usted? (Puede seleccionar múltiples opciones)/Ninguno de los anteriores\": \"risk_none\",\n",
        "\n",
        "    # Past Personal Impact\n",
        "    \"¿Ha sido afectado personalmente anteriormente por alguno de los peligros mencionados en la pregunta anterior? (Puede seleccionar múltiples opciones)\": \"past_impact\",\n",
        "    \"¿Ha sido afectado personalmente anteriormente por alguno de los peligros mencionados en la pregunta anterior? (Puede seleccionar múltiples opciones)/Sí, inundaciones\": \"impact_floods\",\n",
        "    \"¿Ha sido afectado personalmente anteriormente por alguno de los peligros mencionados en la pregunta anterior? (Puede seleccionar múltiples opciones)/Sí, incendios forestales\": \"impact_wildfires\",\n",
        "    \"¿Ha sido afectado personalmente anteriormente por alguno de los peligros mencionados en la pregunta anterior? (Puede seleccionar múltiples opciones)/Sí, erupciones volcánicas\": \"impact_volcanoes\",\n",
        "    \"¿Ha sido afectado personalmente anteriormente por alguno de los peligros mencionados en la pregunta anterior? (Puede seleccionar múltiples opciones)/Sí, desprendimientos\": \"impact_rockfalls\",\n",
        "    \"¿Ha sido afectado personalmente anteriormente por alguno de los peligros mencionados en la pregunta anterior? (Puede seleccionar múltiples opciones)/No, ninguno de los anteriores\": \"impact_none\",\n",
        "\n",
        "\n",
        "    # Damage Type\n",
        "    \"¿Qué tipo de daño experimentó cuando sucedió el evento? \": \"damage_type\",\n",
        "    \"¿Qué tipo de daño experimentó cuando sucedió el evento? /Económico (leve)\": \"damage_economic_mild\",\n",
        "    \"¿Qué tipo de daño experimentó cuando sucedió el evento? /Económico (moderado)\": \"damage_economic_moderate\",\n",
        "    \"¿Qué tipo de daño experimentó cuando sucedió el evento? /Económico (severo)\": \"damage_economic_severe\",\n",
        "    \"¿Qué tipo de daño experimentó cuando sucedió el evento? /Emocional (leve)\": \"damage_emotional_mild\",\n",
        "    \"¿Qué tipo de daño experimentó cuando sucedió el evento? /Emocional (moderado)\": \"damage_emotional_moderate\",\n",
        "    \"¿Qué tipo de daño experimentó cuando sucedió el evento? /Emocional (severo)\": \"damage_emotional_severe\",\n",
        "\n",
        "    # Other Survey Questions\n",
        "    \"¿Cuánto tiempo le llevo recuperarse del evento que ha seleccionado anteriormente?\": \"recovery_time\",\n",
        "    \"¿Algún otro evento climático ocurrió mientras aún se recuperaba del evento mencionado anteriormente?\": \"climate_event_during_recovery\",\n",
        "    \"En una escala del 1 al 5, ¿cómo de preparado diría que está usted si ocurriera alguno de estos peligros? \": \"preparedness_scale\",\n",
        "    \"¿Ha tomado alguna medida de adaptación ante alguno de estos riesgos climáticos?\": \"adaptation\",\n",
        "    \"¿Qué tipo de medidas de adaptación ha tomado?\": \"adaptation_type\",\n",
        "    \"¿Por qué no ha tomado ninguna (otra) medida de adaptación? \": \"adaptation_barriers\",\n",
        "\n",
        "    # Willingness to Pay\n",
        "    \" ¿Cuánto dinero (en euros) estaría dispuesto a pagar por protección contra estos peligros? (pago único)\": \"willingness_to_pay_protection\",\n",
        "    \"¿Cuánto dinero extra estaría dispuesto a pagar para preservar la naturaleza en los alrededores de su hogar? (pago único) \": \"willingness_to_pay_nature\",\n",
        "\n",
        "    # Future Risk Perception\n",
        "    \"¿Cree que los peligros naturales citados anteriormente se volverán más frecuentes y dañinos en el futuro? (1 = No puede empeorar, 5 = Puede empeorar mucho)\": \"future_risk_perception\",\n",
        "\n",
        "    # Government Trust & Preparedness\n",
        "    \"En una escala del 1 al 5, ¿cuánto confía en el gobierno actual?\": \"trust_government\",\n",
        "    \"¿Le ha proporcionado el gobierno procedimientos de evacuación (o acerca de cómo actuar) ante alguno de estos peligros?\": \"govt_evacuation_procedures\",\n",
        "    \"¿Dependes de una única ruta de evacuación o tienes múltiples opciones?\": \"evacuation_routes\",\n",
        "    \"¿A qué distancia de un evento  (como los descritos anteriormente) que avanza en su dirección, consideraría evacuar su hogar?\": \"evacuation_distance\",\n",
        "    \"En una escala del 1 al 5, ¿hasta qué punto confía en que las autoridades locales le protegen de los riesgo climáticos mencionados anteriormente?\": \"trust_local_authorities\",\n",
        "\n",
        "    # Additional Information\n",
        "    \"¿Hay algo más que le gustaría añadir?\": \"additional_comments\",\n",
        "\n",
        "}\n",
        "\n"
      ],
      "metadata": {
        "id": "JDTIKA-zLYM1"
      },
      "execution_count": null,
      "outputs": []
    },
    {
      "cell_type": "code",
      "source": [
        "df.rename(columns=column_mapping, inplace=True)"
      ],
      "metadata": {
        "colab": {
          "base_uri": "https://localhost:8080/"
        },
        "id": "4sbq46_WLDLO",
        "outputId": "0aea4939-9c73-4317-d446-1f73b9dcc15d"
      },
      "execution_count": null,
      "outputs": [
        {
          "output_type": "stream",
          "name": "stdout",
          "text": [
            "Index(['start_time', 'end_time', 'consent', 'city', 'age', 'gender',\n",
            "       'education', 'income', 'perceived_risks', 'risk_wildfires',\n",
            "       'risk_floods', 'risk_volcanoes', 'risk_rockfalls', 'risk_none',\n",
            "       'past_impact', 'impact_floods', 'impact_wildfires', 'impact_volcanoes',\n",
            "       'impact_rockfalls', 'impact_none', 'damage_type',\n",
            "       'damage_economic_mild', 'damage_economic_moderate',\n",
            "       'damage_economic_severe', 'damage_emotional_mild',\n",
            "       'damage_emotional_moderate', 'damage_emotional_severe', 'recovery_time',\n",
            "       'climate_event_during_recovery', 'preparedness_scale', 'adaptation',\n",
            "       'adaptation_type', 'adaptation_barriers',\n",
            "       'willingness_to_pay_protection', 'willingness_to_pay_nature',\n",
            "       'future_risk_perception', 'home_ownership', 'child_home',\n",
            "       '¿Alguno de sus hijos vive actualmente en su hogar? /Sí',\n",
            "       '¿Alguno de sus hijos vive actualmente en su hogar? /No, no viven conmigo',\n",
            "       '¿Alguno de sus hijos vive actualmente en su hogar? /No tengo hijos',\n",
            "       '¿Alguno de sus hijos vive actualmente en su hogar? /Prefiero no responder',\n",
            "       'assistance', 'car', 'close_river', 'surroundings',\n",
            "       'govt_evacuation_procedures', 'evacuation_routes',\n",
            "       'evacuation_distance', 'trust_local_authorities', 'additional_comments',\n",
            "       '¿Ha sido afectado personalmente anteriormente por alguno de los peligros mencionados en la pregunta anterior? (Puede seleccionar múltiples opciones).1',\n",
            "       '¿Ha sido afectado personalmente anteriormente por alguno de los peligros mencionados en la pregunta anterior? (Puede seleccionar múltiples opciones)/Sí, inundaciones.1',\n",
            "       '¿Ha sido afectado personalmente anteriormente por alguno de los peligros mencionados en la pregunta anterior? (Puede seleccionar múltiples opciones)/Sí, incendios forestales.1',\n",
            "       '¿Ha sido afectado personalmente anteriormente por alguno de los peligros mencionados en la pregunta anterior? (Puede seleccionar múltiples opciones)/Sí, erupciones volcánicas.1',\n",
            "       '¿Ha sido afectado personalmente anteriormente por alguno de los peligros mencionados en la pregunta anterior? (Puede seleccionar múltiples opciones)/Sí, desprendimientos.1',\n",
            "       '¿Ha sido afectado personalmente anteriormente por alguno de los peligros mencionados en la pregunta anterior? (Puede seleccionar múltiples opciones)/No, ninguno de los anteriores.1',\n",
            "       'trust_government', '_id', '_uuid', '_submission_time',\n",
            "       '_validation_status', '_notes', '_status', '_submitted_by',\n",
            "       '__version__', '_tags', '_index'],\n",
            "      dtype='object')\n"
          ]
        }
      ]
    },
    {
      "cell_type": "code",
      "source": [
        "df = df.dropna(subset=['consent'])\n",
        "\n",
        "df = df[df[\"consent\"] != \"No\"]"
      ],
      "metadata": {
        "id": "WpoV9ootLLDB"
      },
      "execution_count": null,
      "outputs": []
    },
    {
      "cell_type": "code",
      "source": [
        "city_mapping={\n",
        "    'Tegueste': 'Tegueste',\n",
        "    'los Realejos Residente': 'Los Realejos',\n",
        "    'Resident': 'other',\n",
        "    'Icod de los vinos': 'Icod de los Vinos',\n",
        "    'Los Realejos': 'Los Realejos',\n",
        "    'los realejos, residente': 'Los Realejos',\n",
        "    'Santa Cruz': 'Santa Cruz',\n",
        "    'Icod. Residente': 'Icod de los Vinos',\n",
        "    'San Juan de la Rabla': 'San Juan de la Rambla',\n",
        "    'Puerto de la cruz': 'Puerto de la Cruz',\n",
        "    'La Orotava': 'La Orotava',\n",
        "    'la Orotava': 'La Orotava',\n",
        "    'Soy turista, viajando': 'Tourist',\n",
        "    'Icod de los Vinos': 'Icod de los Vinos',\n",
        "    'Residente': 'other',\n",
        "    'San Juan de La Rambla': 'San Juan de la Rambla',\n",
        "    'Santa Cruz de Tenerife': 'Santa Cruz',\n",
        "    'La Orotava, residente': 'La Orotava',\n",
        "    'Las Chumberas, residente': 'Las Chumberas',\n",
        "    'Valle Tabares': 'Valle Tabares',\n",
        "    'Tejina': 'Tejina',\n",
        "    'Santa cruzeiro de tenerife': 'Santa Cruz',\n",
        "    'PUNTA DEL HIDALGO RESIDENTE': 'Punta del Hidalgo',\n",
        "    'Bajamar': 'Bajamar',\n",
        "    'Taganana': 'Taganana',\n",
        "    'La Guancha.Residente permanente.': 'La Guancha',\n",
        "    'Residente. La Laguna': 'La Laguna',\n",
        "    'Tegueste, residente': 'Tegueste',\n",
        "    'Santa Ursula': 'Santa Ursula',\n",
        "    'Los realejos, residente': 'Los Realejos',\n",
        "    'Garachico, residente': 'Garachico',\n",
        "    'San Antres': 'San Antres',\n",
        "    'Candelaria': 'Candelaria',\n",
        "    'Los cidos': 'Los Cidos',\n",
        "    'La laguna': 'La Laguna',\n",
        "    'Playa de San Marcos': 'San Marcos',\n",
        "    'La Montañeta': 'La Montañeta',\n",
        "    'Turista': 'Tourist',\n",
        "    'Turista en puerto de la cruz ': 'Tourist',\n",
        "    'Turistas san marco': 'Tourist',\n",
        "    'Turista en san marcos': 'Tourist',\n",
        "    'Turista de san marcos ': 'Tourist',\n",
        "    'San marcos': 'San Marcos',\n",
        "    'Icod residente canario': 'Icod de los Vinos',\n",
        "    'Tourist ': 'Tourist',\n",
        "    'San cristobal de la laguna': 'San Cristóbal de la Laguna',\n",
        "    'La laguna ': 'La Laguna',\n",
        "    'La  laguna ': 'La Laguna',\n",
        "    'Resitente': 'other',\n",
        "    'El Sauzal, Ravelo': 'El Sauzal',\n",
        "    'El sauzal,residente': 'El Sauzal',\n",
        "    'El sauzal residente': 'El Sauzal',\n",
        "    'Taganana\\n': 'Taganana',\n",
        "    'Turista, Santo Domingo': 'Tourist',\n",
        "    'San Marcos': 'San Marcos',\n",
        "    'Icod': 'Icod de los Vinos',\n",
        "    'La Guancha': 'La Guancha',\n",
        "    'Garachico': 'Garachico',\n",
        "    'Icod residente': 'Icod de los Vinos',\n",
        "    'Los REALEJOS': 'Los Realejos',\n",
        "    'Santa Cruz. Residente.': 'Santa Cruz',\n",
        "    'San marcos tourist ': 'Tourist',\n",
        "    'Tourist san marcos ': 'Tourist',\n",
        "    'Icod de los vino ': 'Icod de los Vinos',\n",
        "    'San Juan de la rambla': 'San Juan de la Rambla',\n",
        "    'San Juan de la Rambla': 'San Juan de la Rambla',\n",
        "    'El Sauzal': 'El Sauzal',\n",
        "    'Tourist': 'Tourist',\n",
        "    'Tacoronte': 'Tacoronte',\n",
        "    'Tacoronte ': 'Tacoronte',\n",
        "    'El sauzal': 'El Sauzal',\n",
        "    'Tacoronte soy residente': 'Tacoronte',\n",
        "    'La Matanza residente ': 'La Matanza de Acentejo',\n",
        "    'Arena residente': 'other',\n",
        "    'Recidente': 'other',\n",
        "    'Santa cruz': 'Santa Cruz',\n",
        "    'En el tanque': 'El Tanque',\n",
        "    'Residente. Arona': 'other',\n",
        "    'Adeje': 'Adeje',\n",
        "    'Guia de isora': 'Guia de Isora',\n",
        "    'Los silos residente': 'Los Silos',\n",
        "    'La cuesta': 'La Cuesta',\n",
        "    'Icod de losvinos residente': 'Icod de los Vinos',\n",
        "    'Buenavista del norte': 'Buenavista del Norte',\n",
        "    'Los silos': 'Los Silos',\n",
        "    'Tenerife': 'other',\n",
        "    'San Cristóbal de la laguna': 'San Cristóbal de la Laguna',\n",
        "    'tenerife residente tiempo parcial': 'other',\n",
        "    'La ororava': 'La Orotava',\n",
        "    'La Laguna, résidente': 'La Laguna',\n",
        "    'Puerto de la Cruz': 'Puerto de la Cruz',\n",
        "    'San Cristóbal de La Laguna, Las Chumberas, Erasmus+ student': 'San Cristóbal de la Laguna',\n",
        "    'La Laguna': 'La Laguna',\n",
        "    'Los Realejos, residente': 'Los Realejos',\n",
        "    'Vivo en Santa Cruz y soy residente canario': 'Santa Cruz',\n",
        "    'Playa San Juan, residente': 'San Juan',\n",
        "    'Los realejos': 'Los Realejos',\n",
        "    'La orotava': 'La Orotava',\n",
        "    'Pla orotava ': 'La Orotava',\n",
        "    'La orotava ': 'La Orotava',\n",
        "    'Tourists de icod de los vinos': 'Tourist',\n",
        "    'Tourists icod de los vinos': 'Tourist',\n",
        "    'Residente Tegueste': 'Tegueste',\n",
        "    'La orotava, residente': 'La Orotava',\n",
        "    'Orotava': 'La Orotava',\n",
        "    'TEGUESTE': 'Tegueste',\n",
        "    'San Juan': 'San Juan',\n",
        "    'Teguestee': 'Tegueste',\n",
        "    'Tourists icod de los vinos ': 'Tourist'\n",
        "\n",
        "}\n",
        "\n",
        "df['city'] = df['city'].replace(city_mapping)"
      ],
      "metadata": {
        "id": "P4DCqsgY2jV1"
      },
      "execution_count": null,
      "outputs": []
    },
    {
      "cell_type": "code",
      "source": [
        "df['adaptation_dummy'] = df['adaptation'].map({'Sí': 1, 'No': 0})\n"
      ],
      "metadata": {
        "id": "txuW1Qgx29IJ",
        "colab": {
          "base_uri": "https://localhost:8080/",
          "height": 144
        },
        "outputId": "b148fb71-de81-49b1-c0b0-fbca7166e53f",
        "collapsed": true
      },
      "execution_count": 1,
      "outputs": [
        {
          "output_type": "error",
          "ename": "NameError",
          "evalue": "name 'df' is not defined",
          "traceback": [
            "\u001b[0;31m---------------------------------------------------------------------------\u001b[0m",
            "\u001b[0;31mNameError\u001b[0m                                 Traceback (most recent call last)",
            "\u001b[0;32m<ipython-input-1-ff9c33b3c7da>\u001b[0m in \u001b[0;36m<cell line: 0>\u001b[0;34m()\u001b[0m\n\u001b[0;32m----> 1\u001b[0;31m \u001b[0mdf\u001b[0m\u001b[0;34m[\u001b[0m\u001b[0;34m'adaptation_dummy'\u001b[0m\u001b[0;34m]\u001b[0m \u001b[0;34m=\u001b[0m \u001b[0mdf\u001b[0m\u001b[0;34m[\u001b[0m\u001b[0;34m'adaptation'\u001b[0m\u001b[0;34m]\u001b[0m\u001b[0;34m.\u001b[0m\u001b[0mmap\u001b[0m\u001b[0;34m(\u001b[0m\u001b[0;34m{\u001b[0m\u001b[0;34m'Sí'\u001b[0m\u001b[0;34m:\u001b[0m \u001b[0;36m1\u001b[0m\u001b[0;34m,\u001b[0m \u001b[0;34m'No'\u001b[0m\u001b[0;34m:\u001b[0m \u001b[0;36m0\u001b[0m\u001b[0;34m}\u001b[0m\u001b[0;34m)\u001b[0m\u001b[0;34m\u001b[0m\u001b[0;34m\u001b[0m\u001b[0m\n\u001b[0m",
            "\u001b[0;31mNameError\u001b[0m: name 'df' is not defined"
          ]
        }
      ]
    }
  ]
}