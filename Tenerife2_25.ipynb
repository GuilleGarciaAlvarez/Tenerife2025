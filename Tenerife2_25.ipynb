{
  "nbformat": 4,
  "nbformat_minor": 0,
  "metadata": {
    "colab": {
      "provenance": [],
      "include_colab_link": true
    },
    "kernelspec": {
      "name": "python3",
      "display_name": "Python 3"
    },
    "language_info": {
      "name": "python"
    }
  },
  "cells": [
    {
      "cell_type": "markdown",
      "metadata": {
        "id": "view-in-github",
        "colab_type": "text"
      },
      "source": [
        "<a href=\"https://colab.research.google.com/github/GuilleGarciaAlvarez/Tenerife2025/blob/main/Tenerife2_25.ipynb\" target=\"_parent\"><img src=\"https://colab.research.google.com/assets/colab-badge.svg\" alt=\"Open In Colab\"/></a>"
      ]
    },
    {
      "cell_type": "code",
      "execution_count": null,
      "metadata": {
        "id": "IztU8xyK12ld"
      },
      "outputs": [],
      "source": [
        "#Great job in collecting the data!"
      ]
    },
    {
      "cell_type": "code",
      "source": [
        "#Reflection\n",
        "\n",
        "#how was the experience with the questionnaires?\n",
        "#Would you change anything? Add/remove questions? Rephrase? Change options?"
      ],
      "metadata": {
        "id": "E6xuUkdD3s9S"
      },
      "execution_count": null,
      "outputs": []
    },
    {
      "cell_type": "code",
      "source": [
        "#Let's start!\n",
        "\n",
        "#Cheat sheets are here: https://github.com/GuilleGarciaAlvarez/Tenerife2025"
      ],
      "metadata": {
        "id": "pSt1VOPW3uXd"
      },
      "execution_count": null,
      "outputs": []
    },
    {
      "cell_type": "code",
      "source": [
        "import pandas as pd\n"
      ],
      "metadata": {
        "id": "FjiSJtdG19Ya"
      },
      "execution_count": null,
      "outputs": []
    },
    {
      "cell_type": "code",
      "source": [
        "#upload data from Github\n",
        "\n",
        "!pip install openpyxl\n",
        "\n",
        "import requests\n",
        "from io import BytesIO\n",
        "\n",
        "# GitHub file URL\n",
        "url = \"https://github.com/GuilleGarciaAlvarez/Tenerife2025/raw/main/Tenerife_questionnaire_2025_-_all_versions_-_labels_-_2025-03-19-23-38-27.xlsx\"\n",
        "\n",
        "# Download the file\n",
        "response = requests.get(url)\n",
        "\n",
        "# Read the Excel file into pandas\n",
        "df = pd.read_excel(BytesIO(response.content), engine=\"openpyxl\")\n",
        "\n"
      ],
      "metadata": {
        "colab": {
          "base_uri": "https://localhost:8080/"
        },
        "id": "l_Ny73gI2f4e",
        "outputId": "fc5e4fd1-0f73-46ca-92e6-fd119e1d5d01"
      },
      "execution_count": null,
      "outputs": [
        {
          "output_type": "stream",
          "name": "stdout",
          "text": [
            "Requirement already satisfied: openpyxl in /usr/local/lib/python3.11/dist-packages (3.1.5)\n",
            "Requirement already satisfied: et-xmlfile in /usr/local/lib/python3.11/dist-packages (from openpyxl) (2.0.0)\n"
          ]
        }
      ]
    },
    {
      "cell_type": "code",
      "source": [
        "df.rename(columns={\"Gracias por tomarse el tiempo para participar en nuestra encuesta. Su aporte es invaluable para recopilar perspectivas y conocimientos sobre los desastres naturales en Tenerife y las medidas que se pueden tomar contra ellos. Sus respuestas nos ayudarán a comprender mejor la vulnerabilidad a los desastres naturales e informar a los responsables de las políticas en consecuencia. Esta encuesta es completamente anónima y sus respuestas se mantendrán confidenciales. La encuesta tomará un máximo de 10 minutos. Si tiene alguna pregunta o comentario durante la encuesta, no dude en pedir apoyo. ¡Muchas gracias por su participación!  ¿Está de acuerdo en participar en esta encuesta y tiene 18 años o más? \": \"consent\"}, inplace=True)\n",
        "df.rename(column={\"¿En qué ciudad de Tenerife vive? (Por favor, indique si es turista o residente a tiempo parcial)\" : \"town\"})\n",
        "df.rename(column={\"¿Cuál es su edad?\" : \"age\"})\n",
        "df.rename(column={\"¿Cuál es su género?\" : \"gender\"})\n",
        "df.rename(column={\"¿Cuál es su nivel educativo más alto completado?\" : \"education\"})\n",
        "df.rename(column={\"¿Qué peligros ambientales siente que representan un riesgo para usted? (Puede seleccionar múltiples opciones)\" : \"threats\"})\n",
        "df.rename(column={\"¿Ha sido afectado personalmente anteriormente por alguno de los peligros mencionados en la pregunta anterior? (Puede seleccionar múltiples opciones)\" : \"affected\"})\n",
        "df.rename(column={\"¿Qué tipo de daño experimentó cuando sucedió el evento? \" : \"damage\"})\n",
        "df.rename(column={\"¿Cuánto tiempo le llevo recuperarse del evento que ha seleccionado anteriormente?\" : \"recovery\"})\n",
        "df.rename(column={\"¿Algún otro evento climático ocurrió mientras aún se recuperaba del evento mencionado anteriormente?\" : \"other_events\"})\n",
        "df.rename(column={\"En una escala del 1 al 5, ¿cómo de preparado diría que está usted si ocurriera alguno de estos peligros?\"})\n",
        "df.rename(column={\"¿Ha tomado alguna medida de adaptación ante alguno de estos riesgos climáticos?\" : \"adaptation\" })\n",
        "df.rename(column={\"¿Qué tipo de medidas de adaptación ha tomado?\" : \"adaptation_type\"})\n",
        "df.rename(column={\"¿Por qué no ha tomado ninguna (otra) medida de adaptación? \" : \"why_not_adaptation\"})\n",
        "df.rename(column={\" ¿Cuánto dinero (en euros) estaría dispuesto a pagar por protección contra estos peligros? (pago único)\" : \"money_to_protect\"})\n",
        "df.rename(column={\"¿Cuánto dinero extra estaría dispuesto a pagar para preservar la naturaleza en los alrededores de su hogar? (pago único) \" : \"money_for_nature\"})\n",
        "df.rename(column={\"¿Cree que los peligros naturales citados anteriormente se volverán más frecuentes y dañinos en el futuro? (1 = No puede empeorar, 5 = Puede empeorar mucho)\" : \"hazard_frequency\"})\n",
        "df.rename(column={\"¿Es usted propietario de la vivienda en la que reside? \" : \"houseowner\"})\n",
        "df.rename(column={\"¿Alguno de sus hijos vive actualmente en su hogar? \" : \"children\"})\n",
        "df.rename(column={\"¿Cuántas personas en tu hogar necesitarían asistencia en caso de emergencia? \" : \"assistence\"})\n",
        "df.rename(column={\"¿Posee usted un automóvil?\": \"car\"})\n",
        "df.rename(column=\"\")\n",
        "\n",
        "df.rename(column={\"¿Dependes de una única ruta de evacuación o tienes múltiples opciones?\" : “num_evacroutes”})\n",
        "\n",
        "df.rename(column={\"¿Dependes de una única ruta de evacuación o tienes múltiples opciones?\" : “num_evacroutes”})\n",
        "\n",
        "df.rename(column={\"¿A qué distancia de un evento  (como los descritos anteriormente) que avanza en su dirección, consideraría evacuar su hogar?\" : “evacuation_distance”})\n",
        "\n",
        "df.rename(column={\"En una escala del 1 al 5, ¿hasta qué punto confía en que las autoridades locales le protegen de los riesgo climáticos mencionados anteriormente?\" : “authority_trust”})"
      ],
      "metadata": {
        "id": "JDTIKA-zLYM1"
      },
      "execution_count": null,
      "outputs": []
    },
    {
      "cell_type": "code",
      "source": [
        "df['consent'].isnull().sum()"
      ],
      "metadata": {
        "colab": {
          "base_uri": "https://localhost:8080/"
        },
        "id": "4sbq46_WLDLO",
        "outputId": "152bd864-c03c-45fc-9c47-a04438f2a251"
      },
      "execution_count": null,
      "outputs": [
        {
          "output_type": "execute_result",
          "data": {
            "text/plain": [
              "np.int64(6)"
            ]
          },
          "metadata": {},
          "execution_count": 15
        }
      ]
    },
    {
      "cell_type": "code",
      "source": [
        "df = df.dropna(subset=['consent'])\n",
        "\n",
        "# Reset index after dropping the row\n",
        "df = df.reset_index(drop=True)\n",
        "\n",
        "df = df[df[\"consent\"] != \"No\"]"
      ],
      "metadata": {
        "id": "WpoV9ootLLDB"
      },
      "execution_count": 18,
      "outputs": []
    },
    {
      "cell_type": "code",
      "source": [],
      "metadata": {
        "id": "P4DCqsgY2jV1"
      },
      "execution_count": null,
      "outputs": []
    },
    {
      "cell_type": "code",
      "source": [],
      "metadata": {
        "id": "txuW1Qgx29IJ"
      },
      "execution_count": null,
      "outputs": []
    },
    {
      "cell_type": "code",
      "source": [
        "# renaming\n",
        "  #df.rename(columns={\"¿Ha tomado alguna medida de adaptación ante alguno de estos riesgos climáticos?\": \"adaptation\"}, inplace=True)"
      ],
      "metadata": {
        "id": "JKAdjusjQeGG"
      },
      "execution_count": null,
      "outputs": []
    },
    {
      "cell_type": "code",
      "source": [
        "#useful variables?\n",
        "\n",
        "\n",
        "# renaming\n",
        "  #df.rename(columns={\"¿Ha tomado alguna medida de adaptación ante alguno de estos riesgos climáticos?\": \"adaptation\"}, inplace=True)\n",
        "\n",
        "  #column_mapping = {\n",
        "\n",
        "     # \"start\": \"start_time\",\n",
        "     #   }\n",
        "\n",
        "  #df.rename(columns=column_mapping, inplace=True)\n",
        "\n",
        "#Missing\n",
        "\n",
        "  #df['variable'].isnull().sum()\n",
        "  #df = df.dropna(subset=['consent'])\n",
        "\n",
        "  # Reset index after dropping the row\n",
        "  #df = df.reset_index(drop=True)\n",
        "\n",
        "  #df = df[df[\"consent\"] != \"No\"]\n",
        "\n",
        "#Creating dummies\n",
        "  #df['variable_dummy'] = df['variable'].map({'Sí': 1, 'No': 0})\n",
        "\n",
        "  #df['is_la_orotava'] = 0  # Default to 0\n",
        "  #df.loc[df['city'] == \"la orotava\", \"orotava\"] = 1\n",
        "\n",
        "\n",
        "  #binary_vars = ['gender']\n",
        "\n",
        "#def convert_to_dummy(df, columns):\n",
        "   # \"\"\"\n",
        "   # Converts specified columns to dummy variables (0/1).\n",
        "   # Assumes 'yes' = 1, 'no' = 0, and standardizes text formatting.\n",
        "    #\"\"\"\n",
        "   # for col in columns:\n",
        "\n",
        "       # df[col + '_dummy'] = df[col].map({'sí': 1, 'no': 0, 'hombre': 1, 'mujer': 0})\n",
        "\n",
        "   # return df\n",
        "\n",
        "#df = convert_to_dummy(df, binary_vars)\n",
        "\n",
        "#df[['gender', 'gender_dummy']].head()\n",
        "\n",
        "\n",
        "\n",
        "#df[\"is_tourist\"] = df[\"city_clean\"].str.contains(r\"tourist|visiting|vacation|temporary|not a resident\", regex=True, na=False).astype(int)\n",
        "\n",
        "#Charts\n",
        "#import matplotlib.pyplot as plt\n",
        "#import seaborn as sns\n",
        "\n",
        "\n",
        "# Plot using a bar chart (not a histogram) since income is categorical\n",
        "plt.figure(figsize=(12, 5))\n",
        "sns.countplot(data=df, x=\"income_group\", order=income_order, palette=\"coolwarm\")\n",
        "\n",
        "plt.xlabel(\"Income Group (€)\")\n",
        "plt.ylabel(\"Frequency\")\n",
        "plt.title(\"Income Distribution\")\n",
        "plt.xticks(rotation=45)  # Rotate labels for readability\n",
        "plt.grid(True)\n",
        "plt.show()\n",
        "\n",
        "#Freq table\n",
        "  #freq_table = df.groupby([\"income\", \"gender\", \"adaptation\"]).size().unstack()\n"
      ],
      "metadata": {
        "id": "MNf2nOgW3oUj"
      },
      "execution_count": null,
      "outputs": []
    },
    {
      "cell_type": "code",
      "source": [
        "binary_vars = ['gender', 'car']\n",
        "\n",
        "\n",
        "def convert_to_dummy(df, columns):\n",
        "    \"\"\"\n",
        "    Converts specified columns to dummy variables (0/1).\n",
        "    Assumes 'yes' = 1, 'no' = 0, and standardizes text formatting.\n",
        "    \"\"\"\n",
        "    for col in columns:\n",
        "\n",
        "        df[col + '_dummy'] = df[col].map({'sí': 1, 'no': 0, 'hombre': 1, 'mujer': 0})\n",
        "\n",
        "    return df\n",
        "\n",
        "df = convert_to_dummy(df, binary_vars)\n",
        "\n",
        "df[['gender', 'gender_dummy']].head()\n"
      ],
      "metadata": {
        "id": "ZNLqHlSjCgW3"
      },
      "execution_count": null,
      "outputs": []
    }
  ]
}